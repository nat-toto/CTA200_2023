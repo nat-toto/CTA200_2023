{
 "cells": [
  {
   "cell_type": "code",
   "execution_count": 6,
   "id": "e6b535e1",
   "metadata": {},
   "outputs": [],
   "source": [
    "def f(x:float) -> float:\n",
    "    '''This is the function f, a third degree polynomial'''\n",
    "    return x**3 - x**2 - 1\n",
    "\n"
   ]
  },
  {
   "cell_type": "code",
   "execution_count": 7,
   "id": "4de27f6f",
   "metadata": {},
   "outputs": [],
   "source": [
    "def df(x:float) -> float:\n",
    "    '''This is the derivative of our polynomial,f.'''\n",
    "    return 3*x**2 - 2*x"
   ]
  },
  {
   "cell_type": "code",
   "execution_count": 8,
   "id": "6665679c",
   "metadata": {},
   "outputs": [],
   "source": [
    "def newton(f,df,x0,epsilon=1e-6 ,max_iter=30):\n",
    "    '''This finds x intercepts (roots) using Newton iteration\n",
    "\n",
    "Keeping epsilon and max_iter as default values:\n",
    "\n",
    "    >>>newton(f,df,1,1e-6,30)\n",
    "    Found root in 5 iterations.\n",
    "    1.4655713749070918\n",
    "\n",
    "    >>>newton(f,df,2,1e-6,30)\n",
    "    Found root in 4 iterations.\n",
    "    1.4655713749070918\n",
    "\n",
    "    >>>newton(f,df,3,1e-6,30)\n",
    "    Found root in 6 iterations.\n",
    "    1.4655712318902172\n",
    "\n",
    "    >>>newton(f,df,4,1e-6,30)\n",
    "    Found root in 7 iterations.\n",
    "    1.4655712318772516\n",
    "    Reducing epsilon to 1e-8, and varying x0:\n",
    "\n",
    "    >>>newton(f,df,1,1e-8,30)\n",
    "    Found root in 6 iterations.\n",
    "    1.4655712318767877\n",
    "    \n",
    "    >>>newton(f,df,2,1e-8,30)\n",
    "    Found root in 5 iterations.\n",
    "    1.4655712318767877\n",
    "\n",
    "    >>>newton(f,df,3,1e-8,30)\n",
    "    Found root in 6 iterations.\n",
    "    1.4655712318902172\n",
    "\n",
    "    >>>newton(f,df,4,1e-8,30)\n",
    "    Found root in 7 iterations.\n",
    "    1.4655712318772516\n",
    "\n",
    "    As shown above, reducing epsilon still works with either 1 extra iteration or the same number of iterations.\n",
    "    '''\n"
   ]
  },
  {
   "cell_type": "code",
   "execution_count": 26,
   "id": "5f7aa415",
   "metadata": {},
   "outputs": [
    {
     "name": "stdout",
     "output_type": "stream",
     "text": [
      "Found root in 9 iterations.\n",
      "1.465571232470246\n"
     ]
    }
   ],
   "source": [
    "    x0= 10\n",
    "    xn = x0\n",
    "    max_iter = 30\n",
    "    epsilon = 1e-6\n",
    "    for n in range(0,max_iter):\n",
    "        fxn = f(xn)\n",
    "        if abs(fxn/df(xn)) < epsilon:\n",
    "            print ('Found root in ' + str(n) + ' iterations.')\n",
    "            print(xn)\n",
    "            break\n",
    "        dfxn = df(xn)\n",
    "        if dfxn == 0:\n",
    "           print('Iteration failed')\n",
    "           print('none')\n",
    "        xn = xn - fxn/dfxn\n",
    "    if xn == max_iter:\n",
    "        print('Iteration failed')\n",
    "        print('none')"
   ]
  },
  {
   "cell_type": "code",
   "execution_count": null,
   "id": "c7ae11b4",
   "metadata": {},
   "outputs": [],
   "source": []
  }
 ],
 "metadata": {
  "kernelspec": {
   "display_name": "Python 3 (ipykernel)",
   "language": "python",
   "name": "python3"
  },
  "language_info": {
   "codemirror_mode": {
    "name": "ipython",
    "version": 3
   },
   "file_extension": ".py",
   "mimetype": "text/x-python",
   "name": "python",
   "nbconvert_exporter": "python",
   "pygments_lexer": "ipython3",
   "version": "3.10.2"
  }
 },
 "nbformat": 4,
 "nbformat_minor": 5
}
